{
 "cells": [
  {
   "cell_type": "markdown",
   "metadata": {},
   "source": [
    "### About the Notebook\n",
    "\n",
    "This notebook is a reproduction of the Notebook by Francois Chollet explaining what needs to be known to researchers to be able to use Tensorflow 2.0 for reproducing Papers"
   ]
  },
  {
   "cell_type": "markdown",
   "metadata": {},
   "source": [
    "We will start with importing the Layer Class first. As is the norm let us import tensorflow and check the version"
   ]
  },
  {
   "cell_type": "code",
   "execution_count": 1,
   "metadata": {},
   "outputs": [
    {
     "name": "stdout",
     "output_type": "stream",
     "text": [
      "2.0.0-alpha0\n"
     ]
    }
   ],
   "source": [
    "import tensorflow as tf\n",
    "print(tf.__version__)"
   ]
  },
  {
   "cell_type": "code",
   "execution_count": 2,
   "metadata": {},
   "outputs": [],
   "source": [
    "from tensorflow import keras\n",
    "from tensorflow.keras.layers import Layer"
   ]
  },
  {
   "cell_type": "markdown",
   "metadata": {},
   "source": [
    "### Linear Layer"
   ]
  },
  {
   "cell_type": "code",
   "execution_count": 3,
   "metadata": {},
   "outputs": [],
   "source": [
    "class Linear(Layer):\n",
    "    def __init__(self,units=32,input_shape=32):\n",
    "        super(Linear,self).__init__()\n",
    "        ### we will initialise the weights and the bias\n",
    "        ### Weights will be random_normal initialised\n",
    "        ### Bias will be zero initialised\n",
    "        w_init = tf.random_normal_initializer()\n",
    "        b_init = tf.zeros_initializer()\n",
    "        ### we will create the weights and bias for the Layer and set them to be trainable\n",
    "        self.w = tf.Variable(initial_value=w_init(shape=(input_shape,units),dtype='float32'),trainable=True)\n",
    "        ### We will do the same for the bias as well\n",
    "        self.b = tf.Variable(initial_value=b_init(shape=(units,),dtype='float32'),trainable=True)\n",
    "    \n",
    "    ### The call method is use to do the computation required in the Layer\n",
    "    def call(self,inputs):\n",
    "        return tf.matmul(inputs,self.w)+self.b"
   ]
  },
  {
   "cell_type": "markdown",
   "metadata": {},
   "source": [
    "### Test the Linear Layer"
   ]
  },
  {
   "cell_type": "code",
   "execution_count": 4,
   "metadata": {},
   "outputs": [],
   "source": [
    "### Create a test_layer which is an instance of the Linear Layer\n",
    "test_layer = Linear(4,2)"
   ]
  },
  {
   "cell_type": "code",
   "execution_count": 5,
   "metadata": {},
   "outputs": [
    {
     "name": "stdout",
     "output_type": "stream",
     "text": [
      "The variables in this layer are the Weight Variable: <tf.Variable 'Variable:0' shape=(2, 4) dtype=float32, numpy=\n",
      "array([[-0.02464332, -0.03039652, -0.05483612, -0.00165784],\n",
      "       [-0.03904807, -0.05201383, -0.00533114,  0.02012433]],\n",
      "      dtype=float32)>\n",
      "\n",
      "and the Bias Variable: <tf.Variable 'Variable:0' shape=(4,) dtype=float32, numpy=array([0., 0., 0., 0.], dtype=float32)>\n"
     ]
    }
   ],
   "source": [
    "### Get the Variables associated with the test layer\n",
    "Weight,Bias = test_layer.variables\n",
    "print('The variables in this layer are the Weight Variable: {}'.format(Weight))\n",
    "print('\\n''and the Bias Variable: {}'.format(Bias))\n"
   ]
  },
  {
   "cell_type": "code",
   "execution_count": 6,
   "metadata": {},
   "outputs": [
    {
     "name": "stdout",
     "output_type": "stream",
     "text": [
      "The weights of this layer are :\n",
      "<tf.Variable 'Variable:0' shape=(2, 4) dtype=float32, numpy=\n",
      "array([[-0.02464332, -0.03039652, -0.05483612, -0.00165784],\n",
      "       [-0.03904807, -0.05201383, -0.00533114,  0.02012433]],\n",
      "      dtype=float32)>\n",
      "The bias of this layer are :\n",
      "<tf.Variable 'Variable:0' shape=(4,) dtype=float32, numpy=array([0., 0., 0., 0.], dtype=float32)>\n"
     ]
    }
   ],
   "source": [
    "### We can also only get the weights and bias if we so desire\n",
    "### Find the weights and Bias of the Layer\n",
    "weights,bias = test_layer.weights\n",
    "### Print the Weights of the Layer\n",
    "print(\"The weights of this layer are :\")\n",
    "print(weights)\n",
    "### Print the Bias of the Layer\n",
    "print(\"The bias of this layer are :\")\n",
    "print(bias)"
   ]
  },
  {
   "cell_type": "code",
   "execution_count": 7,
   "metadata": {},
   "outputs": [
    {
     "name": "stdout",
     "output_type": "stream",
     "text": [
      "The Value of y is :\n",
      "tf.Tensor(\n",
      "[[-0.06369139 -0.08241034 -0.06016726  0.01846649]\n",
      " [-0.06369139 -0.08241034 -0.06016726  0.01846649]], shape=(2, 4), dtype=float32)\n",
      "The shape of y is: \n",
      "(2, 4)\n"
     ]
    }
   ],
   "source": [
    "### Lets Provide an input which is tf.ones((2,2))\n",
    "### The output of this input through this test_layer can be found as follows\n",
    "y = test_layer(tf.ones((2,2)))\n",
    "print(\"The Value of y is :\")\n",
    "print(y)\n",
    "print(\"The shape of y is: \")\n",
    "print(y.shape)"
   ]
  }
 ],
 "metadata": {
  "kernelspec": {
   "display_name": "Python [conda env:PyTF]",
   "language": "python",
   "name": "conda-env-PyTF-py"
  },
  "language_info": {
   "codemirror_mode": {
    "name": "ipython",
    "version": 3
   },
   "file_extension": ".py",
   "mimetype": "text/x-python",
   "name": "python",
   "nbconvert_exporter": "python",
   "pygments_lexer": "ipython3",
   "version": "3.7.2"
  }
 },
 "nbformat": 4,
 "nbformat_minor": 2
}
