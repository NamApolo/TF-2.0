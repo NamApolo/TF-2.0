{
 "cells": [
  {
   "cell_type": "markdown",
   "metadata": {},
   "source": [
    "### About the Notebook\n",
    "\n",
    "This notebook is a reproduction of the Notebook by Francois Chollet explaining what needs to be known to researchers to be able to use Tensorflow 2.0 for reproducing Papers. We will build a Linear Layer but have a separate for building the weights. This will remove the need to specify the input_shape in the __init__ method."
   ]
  },
  {
   "cell_type": "markdown",
   "metadata": {},
   "source": [
    "We will start with importing the Layer Class first. As is the norm let us import tensorflow and check the version. We will also import keras."
   ]
  },
  {
   "cell_type": "code",
   "execution_count": 1,
   "metadata": {},
   "outputs": [
    {
     "name": "stdout",
     "output_type": "stream",
     "text": [
      "2.0.0-alpha0\n"
     ]
    }
   ],
   "source": [
    "import tensorflow as tf\n",
    "print(tf.__version__)"
   ]
  },
  {
   "cell_type": "code",
   "execution_count": 2,
   "metadata": {},
   "outputs": [],
   "source": [
    "from tensorflow import keras\n",
    "from tensorflow.keras.layers import Layer"
   ]
  },
  {
   "cell_type": "markdown",
   "metadata": {},
   "source": [
    "### Linear Layer"
   ]
  },
  {
   "cell_type": "code",
   "execution_count": 3,
   "metadata": {},
   "outputs": [],
   "source": [
    "class Linear(Layer):\n",
    "    def __init__(self,units=32):\n",
    "        super(Linear,self).__init__()\n",
    "        self.units=units\n",
    "    ### The build method is to build the weights\n",
    "    def build(self,input_shape):\n",
    "        ### We will build the weight using self.add_weight using shape, initializer and setting trainable \n",
    "        ### to be true\n",
    "        self.w = self.add_weight(shape=(input_shape[-1],self.units),initializer='random_normal',trainable=True)\n",
    "        self.b = self.add_weight(shape=(self.units,),initializer='random_normal',trainable=True)\n",
    "    \n",
    "    ### The call method is use to do the computation required in the Layer\n",
    "    def call(self,inputs):\n",
    "        return tf.matmul(inputs,self.w)+self.b"
   ]
  },
  {
   "cell_type": "markdown",
   "metadata": {},
   "source": [
    "### Test the Linear Layer"
   ]
  },
  {
   "cell_type": "code",
   "execution_count": 4,
   "metadata": {},
   "outputs": [],
   "source": [
    "### Create a test_layer which is an instance of the Linear Layer\n",
    "test_layer = Linear(4)"
   ]
  },
  {
   "cell_type": "markdown",
   "metadata": {},
   "source": [
    "Since the model is to build the weights when the output is called, we will not be able to see the variables and weights"
   ]
  },
  {
   "cell_type": "code",
   "execution_count": 5,
   "metadata": {},
   "outputs": [
    {
     "data": {
      "text/plain": [
       "[]"
      ]
     },
     "execution_count": 5,
     "metadata": {},
     "output_type": "execute_result"
    }
   ],
   "source": [
    "test_layer.variables"
   ]
  },
  {
   "cell_type": "code",
   "execution_count": 6,
   "metadata": {},
   "outputs": [
    {
     "data": {
      "text/plain": [
       "[]"
      ]
     },
     "execution_count": 6,
     "metadata": {},
     "output_type": "execute_result"
    }
   ],
   "source": [
    "test_layer.weights"
   ]
  },
  {
   "cell_type": "markdown",
   "metadata": {},
   "source": [
    "### Build the Model\n",
    "Let's call the model with an input so that we can generate the output, once this is done we can see the variables and the weights as well"
   ]
  },
  {
   "cell_type": "code",
   "execution_count": 7,
   "metadata": {},
   "outputs": [
    {
     "name": "stdout",
     "output_type": "stream",
     "text": [
      "The Value of y is :\n",
      "tf.Tensor(\n",
      "[[ 0.08546811  0.02743595  0.00682419 -0.10033746]\n",
      " [ 0.08546811  0.02743595  0.00682419 -0.10033746]], shape=(2, 4), dtype=float32)\n",
      "The shape of y is: \n",
      "(2, 4)\n"
     ]
    }
   ],
   "source": [
    "### Lets Provide an input which is tf.ones((2,2))\n",
    "### The output of this input through this test_layer can be found as follows\n",
    "y = test_layer(tf.ones((2,2)))\n",
    "print(\"The Value of y is :\")\n",
    "print(y)\n",
    "print(\"The shape of y is: \")\n",
    "print(y.shape)"
   ]
  },
  {
   "cell_type": "markdown",
   "metadata": {},
   "source": [
    "### Variables"
   ]
  },
  {
   "cell_type": "code",
   "execution_count": 8,
   "metadata": {},
   "outputs": [
    {
     "name": "stdout",
     "output_type": "stream",
     "text": [
      "The variables in this layer are the Weight Variable: <tf.Variable 'linear/Variable:0' shape=(2, 4) dtype=float32, numpy=\n",
      "array([[-0.02470994, -0.04151258,  0.03872228,  0.00811936],\n",
      "       [ 0.07231567,  0.06020617, -0.01718306,  0.01237033]],\n",
      "      dtype=float32)>\n",
      "\n",
      "and the Bias Variable: <tf.Variable 'linear/Variable:0' shape=(4,) dtype=float32, numpy=array([ 0.03786239,  0.00874236, -0.01471503, -0.12082715], dtype=float32)>\n"
     ]
    }
   ],
   "source": [
    "### Get the Variables associated with the test layer\n",
    "Weight,Bias = test_layer.variables\n",
    "print('The variables in this layer are the Weight Variable: {}'.format(Weight))\n",
    "print('\\n''and the Bias Variable: {}'.format(Bias))\n"
   ]
  },
  {
   "cell_type": "markdown",
   "metadata": {},
   "source": [
    "### Weights"
   ]
  },
  {
   "cell_type": "code",
   "execution_count": 9,
   "metadata": {},
   "outputs": [
    {
     "name": "stdout",
     "output_type": "stream",
     "text": [
      "The weights of this layer are :\n",
      "<tf.Variable 'linear/Variable:0' shape=(2, 4) dtype=float32, numpy=\n",
      "array([[-0.02470994, -0.04151258,  0.03872228,  0.00811936],\n",
      "       [ 0.07231567,  0.06020617, -0.01718306,  0.01237033]],\n",
      "      dtype=float32)>\n",
      "The bias of this layer are :\n",
      "<tf.Variable 'linear/Variable:0' shape=(4,) dtype=float32, numpy=array([ 0.03786239,  0.00874236, -0.01471503, -0.12082715], dtype=float32)>\n"
     ]
    }
   ],
   "source": [
    "### We can also only get the weights and bias if we so desire\n",
    "### Find the weights and Bias of the Layer\n",
    "weights,bias = test_layer.weights\n",
    "### Print the Weights of the Layer\n",
    "print(\"The weights of this layer are :\")\n",
    "print(weights)\n",
    "### Print the Bias of the Layer\n",
    "print(\"The bias of this layer are :\")\n",
    "print(bias)"
   ]
  }
 ],
 "metadata": {
  "kernelspec": {
   "display_name": "Python [conda env:PyTF]",
   "language": "python",
   "name": "conda-env-PyTF-py"
  },
  "language_info": {
   "codemirror_mode": {
    "name": "ipython",
    "version": 3
   },
   "file_extension": ".py",
   "mimetype": "text/x-python",
   "name": "python",
   "nbconvert_exporter": "python",
   "pygments_lexer": "ipython3",
   "version": "3.7.2"
  }
 },
 "nbformat": 4,
 "nbformat_minor": 2
}
