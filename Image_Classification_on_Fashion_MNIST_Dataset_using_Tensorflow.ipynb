{
  "nbformat": 4,
  "nbformat_minor": 0,
  "metadata": {
    "colab": {
      "name": "Image Classification on Fashion MNIST Dataset using Tensorflow.ipynb",
      "version": "0.3.2",
      "provenance": []
    },
    "kernelspec": {
      "name": "python3",
      "display_name": "Python 3"
    },
    "accelerator": "GPU"
  },
  "cells": [
    {
      "metadata": {
        "id": "7m-vLtiXHcId",
        "colab_type": "text"
      },
      "cell_type": "markdown",
      "source": [
        "#### About the Notebook\n",
        "This notebook shows how to use Tensorflow to classify images on the Fashion MNIST Dataset"
      ]
    },
    {
      "metadata": {
        "id": "fLYgoAyIHq4K",
        "colab_type": "text"
      },
      "cell_type": "markdown",
      "source": [
        "Lets Import the necessary modules. Check the version of the tensorflow available"
      ]
    },
    {
      "metadata": {
        "id": "0WV2ijydIC6o",
        "colab_type": "code",
        "colab": {}
      },
      "cell_type": "code",
      "source": [
        "### This is required if you have not installed tensorflow 2.0.0\n",
        "!pip install -q tensorflow==2.0.0-alpha0"
      ],
      "execution_count": 0,
      "outputs": []
    },
    {
      "metadata": {
        "id": "2MvyGzVfHjeB",
        "colab_type": "code",
        "colab": {
          "base_uri": "https://localhost:8080/",
          "height": 34
        },
        "outputId": "2dac21fb-939e-427b-a03a-c23344b337eb"
      },
      "cell_type": "code",
      "source": [
        "import numpy as np\n",
        "import tensorflow as tf\n",
        "from tensorflow import keras\n",
        "from tensorflow.keras import models,layers\n",
        "print(tf.__version__)"
      ],
      "execution_count": 2,
      "outputs": [
        {
          "output_type": "stream",
          "text": [
            "2.0.0-alpha0\n"
          ],
          "name": "stdout"
        }
      ]
    },
    {
      "metadata": {
        "id": "dULJgu_LJvft",
        "colab_type": "text"
      },
      "cell_type": "markdown",
      "source": [
        "#### Import the Fashion MNIST Dataset"
      ]
    },
    {
      "metadata": {
        "id": "CHh4iWYVH-5W",
        "colab_type": "code",
        "colab": {
          "base_uri": "https://localhost:8080/",
          "height": 34
        },
        "outputId": "1b7d3326-fdc7-405c-fe3d-d842677cbf64"
      },
      "cell_type": "code",
      "source": [
        "from keras.datasets import fashion_mnist"
      ],
      "execution_count": 3,
      "outputs": [
        {
          "output_type": "stream",
          "text": [
            "Using TensorFlow backend.\n"
          ],
          "name": "stderr"
        }
      ]
    },
    {
      "metadata": {
        "id": "pEoOPE_gJ0p3",
        "colab_type": "text"
      },
      "cell_type": "markdown",
      "source": [
        "Get the train and test sets from the Fashion MNIST dataset"
      ]
    },
    {
      "metadata": {
        "id": "JN5GcQT3H8nU",
        "colab_type": "code",
        "colab": {}
      },
      "cell_type": "code",
      "source": [
        "(x_train,y_train),(x_test,y_test) = fashion_mnist.load_data()"
      ],
      "execution_count": 0,
      "outputs": []
    },
    {
      "metadata": {
        "id": "pEmV_ad1J_Ux",
        "colab_type": "text"
      },
      "cell_type": "markdown",
      "source": [
        "#### Explore the Shapes and Length of the Dataset"
      ]
    },
    {
      "metadata": {
        "id": "prKbNSAhIAIE",
        "colab_type": "code",
        "colab": {
          "base_uri": "https://localhost:8080/",
          "height": 34
        },
        "outputId": "a8e2c0ca-5729-4fe6-883b-00a0df31e6fa"
      },
      "cell_type": "code",
      "source": [
        "x_train[0].shape"
      ],
      "execution_count": 5,
      "outputs": [
        {
          "output_type": "execute_result",
          "data": {
            "text/plain": [
              "(28, 28)"
            ]
          },
          "metadata": {
            "tags": []
          },
          "execution_count": 5
        }
      ]
    },
    {
      "metadata": {
        "id": "P5I-b0g5JXzc",
        "colab_type": "code",
        "colab": {
          "base_uri": "https://localhost:8080/",
          "height": 34
        },
        "outputId": "54ecbff1-78be-479f-8111-24bf55f4d0e0"
      },
      "cell_type": "code",
      "source": [
        "len(x_train),len(x_test)"
      ],
      "execution_count": 6,
      "outputs": [
        {
          "output_type": "execute_result",
          "data": {
            "text/plain": [
              "(60000, 10000)"
            ]
          },
          "metadata": {
            "tags": []
          },
          "execution_count": 6
        }
      ]
    },
    {
      "metadata": {
        "id": "bNfrHJ79KHnh",
        "colab_type": "code",
        "colab": {
          "base_uri": "https://localhost:8080/",
          "height": 34
        },
        "outputId": "daff0ea9-f5b6-4daa-a5e0-4c4c8984c725"
      },
      "cell_type": "code",
      "source": [
        "y_train.min(), y_train.max()"
      ],
      "execution_count": 7,
      "outputs": [
        {
          "output_type": "execute_result",
          "data": {
            "text/plain": [
              "(0, 9)"
            ]
          },
          "metadata": {
            "tags": []
          },
          "execution_count": 7
        }
      ]
    },
    {
      "metadata": {
        "id": "mQuPpYOJKfS3",
        "colab_type": "text"
      },
      "cell_type": "markdown",
      "source": [
        "#### Normalize the Images by dividing them by 255.0"
      ]
    },
    {
      "metadata": {
        "id": "hloSSl7zJbH-",
        "colab_type": "code",
        "colab": {}
      },
      "cell_type": "code",
      "source": [
        "x_train,x_test = x_train/255.0,x_test/255.0"
      ],
      "execution_count": 0,
      "outputs": []
    },
    {
      "metadata": {
        "id": "eSgCHZSwKngA",
        "colab_type": "text"
      },
      "cell_type": "markdown",
      "source": [
        "#### Create a Model\n",
        "Compile with optimizer, specify the learning rate, loss function and the metrics needed."
      ]
    },
    {
      "metadata": {
        "id": "N4-wL78IKsNX",
        "colab_type": "code",
        "colab": {}
      },
      "cell_type": "code",
      "source": [
        "model = models.Sequential([layers.Flatten(input_shape=(28,28)),layers.Dense(128,activation='relu'),layers.Dense(10,activation='softmax')])\n",
        "model.compile(optimizer=keras.optimizers.RMSprop(lr=0.0001),loss='sparse_categorical_crossentropy',metrics=['accuracy'])"
      ],
      "execution_count": 0,
      "outputs": []
    },
    {
      "metadata": {
        "id": "12DGvdRRLwBC",
        "colab_type": "text"
      },
      "cell_type": "markdown",
      "source": [
        "#### Train the model"
      ]
    },
    {
      "metadata": {
        "id": "rUkPKdU3LfU1",
        "colab_type": "code",
        "colab": {
          "base_uri": "https://localhost:8080/",
          "height": 544
        },
        "outputId": "858796f4-b177-4ab2-eb76-3d79bfabc642"
      },
      "cell_type": "code",
      "source": [
        "model.fit(x_train,y_train,epochs=15)"
      ],
      "execution_count": 10,
      "outputs": [
        {
          "output_type": "stream",
          "text": [
            "Epoch 1/15\n",
            "60000/60000 [==============================] - 5s 86us/sample - loss: 0.6840 - accuracy: 0.7807\n",
            "Epoch 2/15\n",
            "60000/60000 [==============================] - 5s 82us/sample - loss: 0.4743 - accuracy: 0.8398\n",
            "Epoch 3/15\n",
            "60000/60000 [==============================] - 5s 84us/sample - loss: 0.4328 - accuracy: 0.8514\n",
            "Epoch 4/15\n",
            "60000/60000 [==============================] - 5s 83us/sample - loss: 0.4086 - accuracy: 0.8597\n",
            "Epoch 5/15\n",
            "60000/60000 [==============================] - 5s 81us/sample - loss: 0.3908 - accuracy: 0.8656\n",
            "Epoch 6/15\n",
            "60000/60000 [==============================] - 5s 82us/sample - loss: 0.3763 - accuracy: 0.8699\n",
            "Epoch 7/15\n",
            "60000/60000 [==============================] - 5s 83us/sample - loss: 0.3652 - accuracy: 0.8732\n",
            "Epoch 8/15\n",
            "60000/60000 [==============================] - 5s 82us/sample - loss: 0.3555 - accuracy: 0.8774\n",
            "Epoch 9/15\n",
            "60000/60000 [==============================] - 5s 81us/sample - loss: 0.3462 - accuracy: 0.8797\n",
            "Epoch 10/15\n",
            "60000/60000 [==============================] - 5s 83us/sample - loss: 0.3387 - accuracy: 0.8815\n",
            "Epoch 11/15\n",
            "60000/60000 [==============================] - 5s 81us/sample - loss: 0.3323 - accuracy: 0.8834\n",
            "Epoch 12/15\n",
            "60000/60000 [==============================] - 5s 82us/sample - loss: 0.3251 - accuracy: 0.8846\n",
            "Epoch 13/15\n",
            "60000/60000 [==============================] - 6s 93us/sample - loss: 0.3194 - accuracy: 0.8874\n",
            "Epoch 14/15\n",
            "60000/60000 [==============================] - 6s 100us/sample - loss: 0.3136 - accuracy: 0.8888\n",
            "Epoch 15/15\n",
            "60000/60000 [==============================] - 5s 83us/sample - loss: 0.3091 - accuracy: 0.8908\n"
          ],
          "name": "stdout"
        },
        {
          "output_type": "execute_result",
          "data": {
            "text/plain": [
              "<tensorflow.python.keras.callbacks.History at 0x7fdd09005ac8>"
            ]
          },
          "metadata": {
            "tags": []
          },
          "execution_count": 10
        }
      ]
    },
    {
      "metadata": {
        "id": "vslCDWcWMGPs",
        "colab_type": "text"
      },
      "cell_type": "markdown",
      "source": [
        "#### Evaluate on the Test Dataset"
      ]
    },
    {
      "metadata": {
        "id": "hSTdj7flL2Dx",
        "colab_type": "code",
        "colab": {
          "base_uri": "https://localhost:8080/",
          "height": 51
        },
        "outputId": "0c3c7290-6a43-447b-c955-26f5b997532e"
      },
      "cell_type": "code",
      "source": [
        "test_loss, test_accuracy = model.evaluate(x_test,y_test)\n",
        "print(\"Test Accuracy is {}\".format(test_accuracy))"
      ],
      "execution_count": 11,
      "outputs": [
        {
          "output_type": "stream",
          "text": [
            "10000/10000 [==============================] - 0s 37us/sample - loss: 0.3629 - accuracy: 0.8738\n",
            "Test Accuracy is 0.8737999796867371\n"
          ],
          "name": "stdout"
        }
      ]
    },
    {
      "metadata": {
        "id": "3TSM16rNMZoN",
        "colab_type": "text"
      },
      "cell_type": "markdown",
      "source": [
        "#### Predict on a Single Image\n",
        "Since prediction by default in tensorflow is on a batch, we need to convert a single image into a batch"
      ]
    },
    {
      "metadata": {
        "id": "PLdlxMQYMS1z",
        "colab_type": "code",
        "colab": {
          "base_uri": "https://localhost:8080/",
          "height": 34
        },
        "outputId": "9cb03cd1-0d25-4e89-e79e-75dd973fd7e4"
      },
      "cell_type": "code",
      "source": [
        "img = x_test[0]\n",
        "img.shape"
      ],
      "execution_count": 12,
      "outputs": [
        {
          "output_type": "execute_result",
          "data": {
            "text/plain": [
              "(28, 28)"
            ]
          },
          "metadata": {
            "tags": []
          },
          "execution_count": 12
        }
      ]
    },
    {
      "metadata": {
        "id": "ZQSVTfofMtKM",
        "colab_type": "code",
        "colab": {
          "base_uri": "https://localhost:8080/",
          "height": 34
        },
        "outputId": "0cb8b728-1707-4125-d5a5-735b3369c5b6"
      },
      "cell_type": "code",
      "source": [
        "type(img)"
      ],
      "execution_count": 13,
      "outputs": [
        {
          "output_type": "execute_result",
          "data": {
            "text/plain": [
              "numpy.ndarray"
            ]
          },
          "metadata": {
            "tags": []
          },
          "execution_count": 13
        }
      ]
    },
    {
      "metadata": {
        "id": "twUBfaMXMxmR",
        "colab_type": "code",
        "colab": {
          "base_uri": "https://localhost:8080/",
          "height": 34
        },
        "outputId": "dc274429-661d-462a-d810-09e26d104622"
      },
      "cell_type": "code",
      "source": [
        "img = (np.expand_dims(img,0))\n",
        "img.shape"
      ],
      "execution_count": 14,
      "outputs": [
        {
          "output_type": "execute_result",
          "data": {
            "text/plain": [
              "(1, 28, 28)"
            ]
          },
          "metadata": {
            "tags": []
          },
          "execution_count": 14
        }
      ]
    },
    {
      "metadata": {
        "id": "eqOd5jJYNDCD",
        "colab_type": "code",
        "colab": {
          "base_uri": "https://localhost:8080/",
          "height": 34
        },
        "outputId": "93ccf722-1425-47a7-dda5-3ac823bc6fd7"
      },
      "cell_type": "code",
      "source": [
        "pred = model.predict(img)\n",
        "print(np.argmax(pred),y_test[0])"
      ],
      "execution_count": 15,
      "outputs": [
        {
          "output_type": "stream",
          "text": [
            "9 9\n"
          ],
          "name": "stdout"
        }
      ]
    },
    {
      "metadata": {
        "id": "z_IBjSRKNU3k",
        "colab_type": "code",
        "colab": {}
      },
      "cell_type": "code",
      "source": [
        ""
      ],
      "execution_count": 0,
      "outputs": []
    }
  ]
}